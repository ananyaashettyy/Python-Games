{
 "cells": [
  {
   "cell_type": "code",
   "execution_count": 2,
   "id": "6a4507cc",
   "metadata": {},
   "outputs": [
    {
     "name": "stdout",
     "output_type": "stream",
     "text": [
      "Welcome to 'Guess the Number' game!\n",
      "I'm thinking of a number between 1 and 100.\n",
      "Take a guess: 5\n",
      "Your guess is too low.\n",
      "Take a guess: 10\n",
      "Your guess is too low.\n",
      "Take a guess: 50\n",
      "Your guess is too low.\n",
      "Take a guess: 80\n",
      "Your guess is too low.\n",
      "Take a guess: 100\n",
      "Your guess is too high.\n",
      "Take a guess: 90\n",
      "Your guess is too low.\n",
      "Take a guess: 95\n",
      "Your guess is too high.\n",
      "Take a guess: 91\n",
      "Your guess is too low.\n",
      "Take a guess: 92\n",
      "Your guess is too low.\n",
      "Take a guess: 93\n",
      "Congratulations! You guessed the number in 10 attempts.\n"
     ]
    }
   ],
   "source": [
    "\n",
    "import numpy as np\n",
    "def guess_the_number():\n",
    "    number_to_guess = np.random.randint(1, 101)  # Random number between 1 and 100\n",
    "    attempts = 0\n",
    "    \n",
    "    print(\"Welcome to 'Guess the Number' game!\")\n",
    "    print(\"I'm thinking of a number between 1 and 100.\")\n",
    "    \n",
    "    while True:\n",
    "        user_guess = int(input(\"Take a guess: \"))\n",
    "        attempts += 1\n",
    "        \n",
    "        if user_guess < number_to_guess:\n",
    "            print(\"Your guess is too low.\")\n",
    "        elif user_guess > number_to_guess:\n",
    "            print(\"Your guess is too high.\")\n",
    "        else:\n",
    "            print(f\"Congratulations! You guessed the number in {attempts} attempts.\")\n",
    "            break\n",
    "\n",
    "\n",
    "guess_the_number()\n"
   ]
  },
  {
   "cell_type": "code",
   "execution_count": null,
   "id": "18b7b444",
   "metadata": {},
   "outputs": [],
   "source": []
  }
 ],
 "metadata": {
  "kernelspec": {
   "display_name": "Python 3 (ipykernel)",
   "language": "python",
   "name": "python3"
  },
  "language_info": {
   "codemirror_mode": {
    "name": "ipython",
    "version": 3
   },
   "file_extension": ".py",
   "mimetype": "text/x-python",
   "name": "python",
   "nbconvert_exporter": "python",
   "pygments_lexer": "ipython3",
   "version": "3.11.3"
  }
 },
 "nbformat": 4,
 "nbformat_minor": 5
}
