{
 "cells": [
  {
   "cell_type": "code",
   "execution_count": null,
   "id": "878bb8e4",
   "metadata": {},
   "outputs": [],
   "source": [
    "def print_board(board):\n",
    "    for row in board:\n",
    "        print(\"|\".join(row))\n",
    "        print(\"-\" * 5)\n",
    "\n",
    "def check_winner(board, player):\n",
    "    for row in board:\n",
    "        if all(s == player for s in row):\n",
    "            return True\n",
    "    for col in range(3):\n",
    "        if all(row[col] == player for row in board):\n",
    "            return True\n",
    "    if all(board[i][i] == player for i in range(3)) or all(board[i][2 - i] == player for i in range(3)):\n",
    "        return True\n",
    "    return False\n",
    "\n",
    "def tic_tac_toe():\n",
    "    board = [[\" \" for _ in range(3)] for _ in range(3)]\n",
    "    players = ['X', 'O']\n",
    "    turn = 0\n",
    "\n",
    "    while turn < 9:\n",
    "        print_board(board)\n",
    "        player = players[turn % 2]\n",
    "        row, col = map(int, input(f\"Player {player}, enter your move (row and column): \").split())\n",
    "        \n",
    "        if board[row][col] == \" \":\n",
    "            board[row][col] = player\n",
    "            if check_winner(board, player):\n",
    "                print_board(board)\n",
    "                print(f\"Player {player} wins!\")\n",
    "                return\n",
    "            turn += 1\n",
    "        else:\n",
    "            print(\"The cell is already occupied. Try again.\")\n",
    "    print(\"It's a tie!\")\n",
    "\n",
    "tic_tac_toe()\n"
   ]
  }
 ],
 "metadata": {
  "kernelspec": {
   "display_name": "Python 3 (ipykernel)",
   "language": "python",
   "name": "python3"
  },
  "language_info": {
   "codemirror_mode": {
    "name": "ipython",
    "version": 3
   },
   "file_extension": ".py",
   "mimetype": "text/x-python",
   "name": "python",
   "nbconvert_exporter": "python",
   "pygments_lexer": "ipython3",
   "version": "3.11.3"
  }
 },
 "nbformat": 4,
 "nbformat_minor": 5
}
