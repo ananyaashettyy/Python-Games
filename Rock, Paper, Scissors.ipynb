{
 "cells": [
  {
   "cell_type": "code",
   "execution_count": 1,
   "id": "83ed8826",
   "metadata": {},
   "outputs": [
    {
     "name": "stdout",
     "output_type": "stream",
     "text": [
      "Choose 'rock', 'paper', or 'scissors': rock\n",
      "You won!\n"
     ]
    }
   ],
   "source": [
    "import random\n",
    "\n",
    "def play():\n",
    "    user = input(\"Choose 'rock', 'paper', or 'scissors': \").lower()\n",
    "    computer = random.choice(['rock', 'paper', 'scissors'])\n",
    "\n",
    "    if user == computer:\n",
    "        return \"It's a tie!\"\n",
    "    \n",
    "    if is_win(user, computer):\n",
    "        return 'You won!'\n",
    "    \n",
    "    return 'You lost!'\n",
    "\n",
    "def is_win(player, opponent):\n",
    "    \n",
    "   \n",
    "    if (player == 'rock' and opponent == 'scissors') or (player == 'scissors' and opponent == 'paper') or (player == 'paper' and opponent == 'rock'):\n",
    "        return True\n",
    "\n",
    "print(play())\n"
   ]
  },
  {
   "cell_type": "code",
   "execution_count": null,
   "id": "1873bcff",
   "metadata": {},
   "outputs": [],
   "source": []
  }
 ],
 "metadata": {
  "kernelspec": {
   "display_name": "Python 3 (ipykernel)",
   "language": "python",
   "name": "python3"
  },
  "language_info": {
   "codemirror_mode": {
    "name": "ipython",
    "version": 3
   },
   "file_extension": ".py",
   "mimetype": "text/x-python",
   "name": "python",
   "nbconvert_exporter": "python",
   "pygments_lexer": "ipython3",
   "version": "3.11.3"
  }
 },
 "nbformat": 4,
 "nbformat_minor": 5
}
