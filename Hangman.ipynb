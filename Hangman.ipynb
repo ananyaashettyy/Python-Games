{
 "cells": [
  {
   "cell_type": "code",
   "execution_count": null,
   "id": "455bbad7",
   "metadata": {},
   "outputs": [
    {
     "name": "stdout",
     "output_type": "stream",
     "text": [
      "Guess a letter: t\n",
      "Good guess: _ _ t _ _ _\n"
     ]
    }
   ],
   "source": [
    "import random\n",
    "\n",
    "def hangman():\n",
    "    words = [\"python\", \"java\", \"swift\", \"javascript\"]\n",
    "    word = random.choice(words)\n",
    "    guessed = \"_\" * len(word)\n",
    "    word = list(word)\n",
    "    guessed = list(guessed)\n",
    "    tries = 6\n",
    "    guessed_letters = []\n",
    "\n",
    "    while tries > 0:\n",
    "        guess = input(\"Guess a letter: \").lower()\n",
    "        \n",
    "        if guess in guessed_letters:\n",
    "            print(\"You already guessed that letter.\")\n",
    "            continue\n",
    "\n",
    "        guessed_letters.append(guess)\n",
    "\n",
    "        if guess in word:\n",
    "            for i in range(len(word)):\n",
    "                if word[i] == guess:\n",
    "                    guessed[i] = guess\n",
    "            print(\"Good guess:\", \" \".join(guessed))\n",
    "        else:\n",
    "            tries -= 1\n",
    "            print(\"Wrong guess. You have\", tries, \"tries left.\")\n",
    "        \n",
    "        if \"_\" not in guessed:\n",
    "            print(\"You won! The word was:\", \"\".join(word))\n",
    "            break\n",
    "    else:\n",
    "        print(\"You lost! The word was:\", \"\".join(word))\n",
    "\n",
    "hangman()\n"
   ]
  },
  {
   "cell_type": "code",
   "execution_count": null,
   "id": "0aac12db",
   "metadata": {},
   "outputs": [],
   "source": []
  }
 ],
 "metadata": {
  "kernelspec": {
   "display_name": "Python 3 (ipykernel)",
   "language": "python",
   "name": "python3"
  },
  "language_info": {
   "codemirror_mode": {
    "name": "ipython",
    "version": 3
   },
   "file_extension": ".py",
   "mimetype": "text/x-python",
   "name": "python",
   "nbconvert_exporter": "python",
   "pygments_lexer": "ipython3",
   "version": "3.11.3"
  }
 },
 "nbformat": 4,
 "nbformat_minor": 5
}
